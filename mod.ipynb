{
 "cells": [
  {
   "cell_type": "code",
   "execution_count": 1,
   "id": "c837353e-0f86-4aea-880d-827288dccb44",
   "metadata": {},
   "outputs": [],
   "source": [
    "import os\n",
    "from dotenv import load_dotenv\n",
    "\n",
    "# Load environment variables from .env file\n",
    "load_dotenv()\n",
    "\n",
    "# Ensure the API key is set\n",
    "if not os.environ.get(\"MISTRAL_API_KEY\"):\n",
    "    raise EnvironmentError(\"MISTRAL_API_KEY not found in environment variables.\")\n",
    "\n",
    "from langchain.chat_models import init_chat_model\n",
    "\n",
    "# Initialize the model\n",
    "model = init_chat_model(\"mistral-large-latest\", model_provider=\"mistralai\")\n"
   ]
  },
  {
   "cell_type": "code",
   "execution_count": 6,
   "id": "f2231d96-4263-4d4d-be6b-c7c0a3bf9064",
   "metadata": {},
   "outputs": [],
   "source": [
    "from langchain_mistralai import ChatMistralAI\n",
    "\n",
    "llm = ChatMistralAI(\n",
    "    model=\"mistral-large-latest\",\n",
    "    temperature=0.05,\n",
    "    max_retries=2,\n",
    ")"
   ]
  },
  {
   "cell_type": "code",
   "execution_count": 4,
   "id": "189afb75-61dd-4e32-89c2-7affdbcecc32",
   "metadata": {},
   "outputs": [],
   "source": [
    "weight = float(83.5)\n",
    "height = float(181.5)\n",
    "activity = \"2 Times a week\"\n",
    "age = int(21)\n",
    "goal = \"Gain Muscle , Loose Body Fat\"\n",
    "country = \"india\""
   ]
  },
  {
   "cell_type": "code",
   "execution_count": 8,
   "id": "865a8c03-0d0d-49a5-838a-5067e0a5f125",
   "metadata": {},
   "outputs": [
    {
     "name": "stdout",
     "output_type": "stream",
     "text": [
      "Based on your profile and goals, I've created a balanced diet plan focusing on whole foods to help you gain muscle and lose body fat. Since you live in India, I've included readily available food items. Remember to stay hydrated throughout the day, aiming for at least 3-4 liters of water daily.\n",
      "\n",
      "**Diet Plan**\n",
      "\n",
      "| Meal Time | Food Items | Portion Size |\n",
      "|---|---|---|\n",
      "| **6:00 AM (Pre-workout)** | Overnight soaked oats with mixed fruits | 1 cup cooked oats + 1 cup mixed fruits |\n",
      "| **8:00 AM (Post-workout)** | Whole wheat toast with scrambled eggs | 2 slices of toast + 3 whole eggs |\n",
      "| **10:30 AM (Mid-morning snack)** | Greek yogurt with honey and mixed nuts | 1 cup yogurt + 1 tsp honey + 1 oz nuts |\n",
      "| **1:00 PM (Lunch)** | Grilled chicken breast with quinoa and mixed vegetables | 4 oz (113g) chicken + 1 cup cooked quinoa + 1 cup vegetables |\n",
      "| **4:00 PM (Evening snack)** | Cottage cheese with sliced cucumber | 1 cup cottage cheese + 1 medium cucumber |\n",
      "| **7:00 PM (Dinner)** | Baked fish with brown rice and steamed broccoli | 4 oz (113g) fish + 1 cup cooked rice + 1 cup broccoli |\n",
      "| **9:30 PM (Before bed)** | A small bowl of mixed berries with a handful of almonds | 1 cup berries + 1 oz almonds |\n",
      "\n",
      "**Macronutrient Breakdown (Approximate)**\n",
      "\n",
      "| Macronutrient | Calories | Grams |\n",
      "|---|---|---|\n",
      "| **Protein** | 980 (28%) | 196g |\n",
      "| **Carbohydrates** | 1245 (36%) | 249g |\n",
      "| **Fats** | 875 (26%) | 79g |\n",
      "| **Total Calories** | **3100** | - |\n",
      "\n",
      "**Micronutrient Breakdown (Approximate)**\n",
      "\n",
      "| Micronutrient | Daily Value |\n",
      "|---|---|\n",
      "| **Vitamin A** | 1200 mcg |\n",
      "| **Vitamin C** | 200 mg |\n",
      "| **Vitamin D** | 15 mcg |\n",
      "| **Vitamin E** | 15 mg |\n",
      "| **Vitamin K** | 120 mcg |\n",
      "| **Thiamin (B1)** | 1.2 mg |\n",
      "| **Riboflavin (B2)** | 1.7 mg |\n",
      "| **Niacin (B3)** | 20 mg |\n",
      "| **Vitamin B6** | 2 mg |\n",
      "| **Folate (B9)** | 400 mcg |\n",
      "| **Vitamin B12** | 6 mcg |\n",
      "| **Pantothenic Acid (B5)** | 10 mg |\n",
      "| **Calcium** | 1200 mg |\n",
      "| **Iron** | 18 mg |\n",
      "| **Magnesium** | 420 mg |\n",
      "| **Phosphorus** | 1250 mg |\n",
      "| **Potassium** | 3500 mg |\n",
      "| **Sodium** | 2300 mg |\n",
      "| **Zinc** | 15 mg |\n",
      "\n",
      "**Additional Notes:**\n",
      "\n",
      "1. Avoid sugary beverages, excessive salt, and processed foods.\n",
      "2. Include a variety of fruits and vegetables to ensure a wide range of micronutrients.\n",
      "3. Adjust portion sizes based on your hunger and fullness cues.\n",
      "4. Consult a local healthcare professional or registered dietitian for personalized advice.\n",
      "5. Since you're not interested in whey protein, focus on consuming high-quality, whole food protein sources.\n",
      "6. Remember that consistency is key in achieving your fitness goals.\n",
      "7. Make sure to have proper rest and recovery, aiming for 7-9 hours of sleep per night.\n",
      "8. On non-training days, you can reduce your carbohydrate intake slightly and adjust portion sizes accordingly.\n",
      "9. This diet plan provides a balance of macronutrients to support both muscle gain and fat loss. However, adjustments may be needed based on your progress and individual needs.\n"
     ]
    }
   ],
   "source": [
    "messages = [\n",
    "    (\n",
    "        \"system\",\n",
    "        \"you are a veteran nutritionist who is always answers with a proper diet plan which includes portion size and time of eating and do no recommend supplimentary whey protien\",\n",
    "    ),\n",
    "    (\"human\", f\"My weight is {weight},my height is {height},my activity frequency is{activity} my age is {age} and my goal is {goal}, i live in {country} give me a diet plant according to it.Also Give a breakdown of all macro and micro nutrients with calories in a tabular form \"),\n",
    "]\n",
    "ai_msg = llm.invoke(messages)\n",
    "print(ai_msg.content)"
   ]
  },
  {
   "cell_type": "code",
   "execution_count": null,
   "id": "06cf5bd1-5428-403b-b9d3-c559cd5c4233",
   "metadata": {},
   "outputs": [],
   "source": []
  }
 ],
 "metadata": {
  "kernelspec": {
   "display_name": "Python 3 (ipykernel)",
   "language": "python",
   "name": "python3"
  },
  "language_info": {
   "codemirror_mode": {
    "name": "ipython",
    "version": 3
   },
   "file_extension": ".py",
   "mimetype": "text/x-python",
   "name": "python",
   "nbconvert_exporter": "python",
   "pygments_lexer": "ipython3",
   "version": "3.13.5"
  }
 },
 "nbformat": 4,
 "nbformat_minor": 5
}
